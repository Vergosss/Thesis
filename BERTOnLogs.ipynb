{
  "nbformat": 4,
  "nbformat_minor": 0,
  "metadata": {
    "colab": {
      "provenance": [],
      "gpuType": "T4",
      "authorship_tag": "ABX9TyNYCh6Bj6NxnpR9ACK6EDGd",
      "include_colab_link": true
    },
    "kernelspec": {
      "name": "python3",
      "display_name": "Python 3"
    },
    "language_info": {
      "name": "python"
    }
  },
  "cells": [
    {
      "cell_type": "markdown",
      "metadata": {
        "id": "view-in-github",
        "colab_type": "text"
      },
      "source": [
        "<a href=\"https://colab.research.google.com/github/Vergosss/Thesis/blob/main/BERTOnLogs.ipynb\" target=\"_parent\"><img src=\"https://colab.research.google.com/assets/colab-badge.svg\" alt=\"Open In Colab\"/></a>"
      ]
    },
    {
      "cell_type": "code",
      "execution_count": 11,
      "metadata": {
        "id": "WAsJPxSdeM6-",
        "colab": {
          "base_uri": "https://localhost:8080/",
          "height": 1000
        },
        "outputId": "4985e009-1b6d-4da1-bd87-bafe956917cd"
      },
      "outputs": [
        {
          "output_type": "stream",
          "name": "stdout",
          "text": [
            "Drive already mounted at /content/drive; to attempt to forcibly remount, call drive.mount(\"/content/drive\", force_remount=True).\n",
            "cpu\n"
          ]
        },
        {
          "output_type": "display_data",
          "data": {
            "text/plain": [
              "<IPython.core.display.HTML object>"
            ],
            "text/html": [
              "<table border=\"1\" class=\"dataframe\">\n",
              "  <thead>\n",
              "    <tr style=\"text-align: right;\">\n",
              "      <th></th>\n",
              "      <th>BlockId</th>\n",
              "      <th>Label</th>\n",
              "      <th>Features</th>\n",
              "    </tr>\n",
              "  </thead>\n",
              "  <tbody>\n",
              "    <tr>\n",
              "      <th>410983</th>\n",
              "      <td>blk_-7397595242157932421</td>\n",
              "      <td>1</td>\n",
              "      <td>[E5,E5,E5,E22,E11,E9,E11,E9,E26,E26,E11,E9,E26,E23,E23,E23,E21,E21,E21]</td>\n",
              "    </tr>\n",
              "    <tr>\n",
              "      <th>95726</th>\n",
              "      <td>blk_962223603793551040</td>\n",
              "      <td>1</td>\n",
              "      <td>[E22,E5,E5,E5,E26,E26,E11,E9,E11,E9,E11,E9,E26,E3,E4,E3,E4,E3,E3,E4,E3,E3,E23,E23,E23,E21,E21,E21]</td>\n",
              "    </tr>\n",
              "    <tr>\n",
              "      <th>377626</th>\n",
              "      <td>blk_5465670254893690827</td>\n",
              "      <td>1</td>\n",
              "      <td>[E5,E5,E5,E22,E11,E9,E11,E9,E11,E9,E26,E26,E26,E23,E23,E23,E21,E21,E21]</td>\n",
              "    </tr>\n",
              "    <tr>\n",
              "      <th>50210</th>\n",
              "      <td>blk_1910008936831073547</td>\n",
              "      <td>1</td>\n",
              "      <td>[E22,E5,E5,E5,E26,E26,E26,E11,E9,E11,E9,E11,E9,E23,E23,E23,E21,E21,E21]</td>\n",
              "    </tr>\n",
              "    <tr>\n",
              "      <th>349507</th>\n",
              "      <td>blk_-6861825879037213300</td>\n",
              "      <td>1</td>\n",
              "      <td>[E5,E22,E5,E5,E11,E9,E11,E9,E11,E9,E26,E26,E26]</td>\n",
              "    </tr>\n",
              "  </tbody>\n",
              "</table>"
            ]
          },
          "metadata": {}
        },
        {
          "output_type": "display_data",
          "data": {
            "text/plain": [
              "<IPython.core.display.HTML object>"
            ],
            "text/html": [
              "<table border=\"1\" class=\"dataframe\">\n",
              "  <thead>\n",
              "    <tr style=\"text-align: right;\">\n",
              "      <th></th>\n",
              "      <th>EventId</th>\n",
              "      <th>EventTemplate</th>\n",
              "    </tr>\n",
              "  </thead>\n",
              "  <tbody>\n",
              "    <tr>\n",
              "      <th>28</th>\n",
              "      <td>E29</td>\n",
              "      <td>[*]PendingReplicationMonitor timed out block[*]</td>\n",
              "    </tr>\n",
              "    <tr>\n",
              "      <th>23</th>\n",
              "      <td>E24</td>\n",
              "      <td>[*]BLOCK* Removing block[*]from neededReplications as it does not belong to any file[*]</td>\n",
              "    </tr>\n",
              "    <tr>\n",
              "      <th>14</th>\n",
              "      <td>E15</td>\n",
              "      <td>[*]Changing block file offset of block[*]from[*]to[*]meta file offset to[*]</td>\n",
              "    </tr>\n",
              "    <tr>\n",
              "      <th>0</th>\n",
              "      <td>E1</td>\n",
              "      <td>[*]Adding an already existing block[*]</td>\n",
              "    </tr>\n",
              "    <tr>\n",
              "      <th>3</th>\n",
              "      <td>E4</td>\n",
              "      <td>[*]Got exception while serving[*]to[*]</td>\n",
              "    </tr>\n",
              "  </tbody>\n",
              "</table>"
            ]
          },
          "metadata": {}
        },
        {
          "output_type": "stream",
          "name": "stdout",
          "text": [
            "{'E1': '[*]Adding an already existing block[*]', 'E2': '[*]Verification succeeded for[*]', 'E3': '[*]Served block[*]to[*]', 'E4': '[*]Got exception while serving[*]to[*]', 'E5': '[*]Receiving block[*]src:[*]dest:[*]', 'E6': '[*]Received block[*]src:[*]dest:[*]of size[*]', 'E7': '[*]writeBlock[*]received exception[*]', 'E8': '[*]PacketResponder[*]for block[*]Interrupted[*]', 'E9': '[*]Received block[*]of size[*]from[*]', 'E10': '[*]PacketResponder[*]Exception[*]', 'E11': '[*]PacketResponder[*]for block[*]terminating[*]', 'E12': '[*]:Exception writing block[*]to mirror[*]', 'E13': '[*]Receiving empty packet for block[*]', 'E14': '[*]Exception in receiveBlock for block[*]', 'E15': '[*]Changing block file offset of block[*]from[*]to[*]meta file offset to[*]', 'E16': '[*]:Transmitted block[*]to[*]', 'E17': '[*]:Failed to transfer[*]to[*]got[*]', 'E18': '[*]Starting thread to transfer block[*]to[*]', 'E19': '[*]Reopen Block[*]', 'E20': '[*]Unexpected error trying to delete block[*]BlockInfo not found in volumeMap[*]', 'E21': '[*]Deleting block[*]file[*]', 'E22': '[*]BLOCK* NameSystem[*]allocateBlock:[*]', 'E23': '[*]BLOCK* NameSystem[*]delete:[*]is added to invalidSet of[*]', 'E24': '[*]BLOCK* Removing block[*]from neededReplications as it does not belong to any file[*]', 'E25': '[*]BLOCK* ask[*]to replicate[*]to[*]', 'E26': '[*]BLOCK* NameSystem[*]addStoredBlock: blockMap updated:[*]is added to[*]size[*]', 'E27': '[*]BLOCK* NameSystem[*]addStoredBlock: Redundant addStoredBlock request received for[*]on[*]size[*]', 'E28': '[*]BLOCK* NameSystem[*]addStoredBlock: addStoredBlock request received for[*]on[*]size[*]But it does not belong to any file[*]', 'E29': '[*]PendingReplicationMonitor timed out block[*]'}\n",
            "212780    [E5,E5,E5,E22,E11,E9,E11,E9,E11,E9,E26,E26,E26...\n",
            "Name: Features, dtype: object\n",
            "<class 'pandas.core.frame.DataFrame'>\n",
            "RangeIndex: 575061 entries, 0 to 575060\n",
            "Data columns (total 3 columns):\n",
            " #   Column    Non-Null Count   Dtype \n",
            "---  ------    --------------   ----- \n",
            " 0   BlockId   575061 non-null  object\n",
            " 1   Label     575061 non-null  int64 \n",
            " 2   Features  575061 non-null  object\n",
            "dtypes: int64(1), object(2)\n",
            "memory usage: 13.2+ MB\n"
          ]
        },
        {
          "output_type": "display_data",
          "data": {
            "text/plain": [
              "<IPython.core.display.HTML object>"
            ],
            "text/html": [
              "<table border=\"1\" class=\"dataframe\">\n",
              "  <thead>\n",
              "    <tr style=\"text-align: right;\">\n",
              "      <th></th>\n",
              "      <th>BlockId</th>\n",
              "      <th>Label</th>\n",
              "      <th>Features</th>\n",
              "    </tr>\n",
              "  </thead>\n",
              "  <tbody>\n",
              "    <tr>\n",
              "      <th>553786</th>\n",
              "      <td>blk_-4650489431364790352</td>\n",
              "      <td>1</td>\n",
              "      <td>[[*]Receiving block[*]src:[*]dest:[*], [*]Receiving block[*]src:[*]dest:[*], [*]Receiving block[*]src:[*]dest:[*], [*]BLOCK* NameSystem[*]allocateBlock:[*], [*]PacketResponder[*]for block[*]terminating[*], [*]Received block[*]of size[*]from[*], [*]PacketResponder[*]for block[*]terminating[*], [*]Received block[*]of size[*]from[*], [*]PacketResponder[*]for block[*]terminating[*], [*]Received block[*]of size[*]from[*], [*]BLOCK* NameSystem[*]addStoredBlock: blockMap updated:[*]is added to[*]size[*], [*]BLOCK* NameSystem[*]addStoredBlock: blockMap updated:[*]is added to[*]size[*], [*]BLOCK* NameSystem[*]addStoredBlock: blockMap updated:[*]is added to[*]size[*], [*]BLOCK* NameSystem[*]delete:[*]is added to invalidSet of[*], [*]BLOCK* NameSystem[*]delete:[*]is added to invalidSet of[*], [*]BLOCK* NameSystem[*]delete:[*]is added to invalidSet of[*], [*]Deleting block[*]file[*], [*]Deleting block[*]file[*], [*]Deleting block[*]file[*]]</td>\n",
              "    </tr>\n",
              "  </tbody>\n",
              "</table>"
            ]
          },
          "metadata": {}
        },
        {
          "output_type": "error",
          "ename": "KeyboardInterrupt",
          "evalue": "Interrupted by user",
          "traceback": [
            "\u001b[0;31m---------------------------------------------------------------------------\u001b[0m",
            "\u001b[0;31mKeyboardInterrupt\u001b[0m                         Traceback (most recent call last)",
            "\u001b[0;32m<ipython-input-11-2853518a7f48>\u001b[0m in \u001b[0;36m<cell line: 35>\u001b[0;34m()\u001b[0m\n\u001b[1;32m     33\u001b[0m \u001b[0mevent_traces\u001b[0m\u001b[0;34m[\u001b[0m\u001b[0;34m'Features'\u001b[0m\u001b[0;34m]\u001b[0m \u001b[0;34m=\u001b[0m \u001b[0mevent_traces\u001b[0m\u001b[0;34m.\u001b[0m\u001b[0mapply\u001b[0m\u001b[0;34m(\u001b[0m\u001b[0mfeatures_to_strings\u001b[0m\u001b[0;34m,\u001b[0m\u001b[0maxis\u001b[0m\u001b[0;34m=\u001b[0m\u001b[0;36m1\u001b[0m\u001b[0;34m)\u001b[0m\u001b[0;34m\u001b[0m\u001b[0;34m\u001b[0m\u001b[0m\n\u001b[1;32m     34\u001b[0m \u001b[0mdisplay\u001b[0m\u001b[0;34m(\u001b[0m\u001b[0mHTML\u001b[0m\u001b[0;34m(\u001b[0m\u001b[0;34m(\u001b[0m\u001b[0mevent_traces\u001b[0m\u001b[0;34m.\u001b[0m\u001b[0msample\u001b[0m\u001b[0;34m(\u001b[0m\u001b[0;36m1\u001b[0m\u001b[0;34m)\u001b[0m\u001b[0;34m)\u001b[0m\u001b[0;34m.\u001b[0m\u001b[0mto_html\u001b[0m\u001b[0;34m(\u001b[0m\u001b[0;34m)\u001b[0m\u001b[0;34m)\u001b[0m\u001b[0;34m)\u001b[0m\u001b[0;34m\u001b[0m\u001b[0;34m\u001b[0m\u001b[0m\n\u001b[0;32m---> 35\u001b[0;31m \u001b[0minput\u001b[0m\u001b[0;34m(\u001b[0m\u001b[0;34m'WAIT'\u001b[0m\u001b[0;34m)\u001b[0m\u001b[0;34m\u001b[0m\u001b[0;34m\u001b[0m\u001b[0m\n\u001b[0m\u001b[1;32m     36\u001b[0m \u001b[0;31m##\u001b[0m\u001b[0;34m\u001b[0m\u001b[0;34m\u001b[0m\u001b[0m\n\u001b[1;32m     37\u001b[0m '''\n",
            "\u001b[0;32m/usr/local/lib/python3.10/dist-packages/ipykernel/kernelbase.py\u001b[0m in \u001b[0;36mraw_input\u001b[0;34m(self, prompt)\u001b[0m\n\u001b[1;32m    849\u001b[0m                 \u001b[0;34m\"raw_input was called, but this frontend does not support input requests.\"\u001b[0m\u001b[0;34m\u001b[0m\u001b[0;34m\u001b[0m\u001b[0m\n\u001b[1;32m    850\u001b[0m             )\n\u001b[0;32m--> 851\u001b[0;31m         return self._input_request(str(prompt),\n\u001b[0m\u001b[1;32m    852\u001b[0m             \u001b[0mself\u001b[0m\u001b[0;34m.\u001b[0m\u001b[0m_parent_ident\u001b[0m\u001b[0;34m,\u001b[0m\u001b[0;34m\u001b[0m\u001b[0;34m\u001b[0m\u001b[0m\n\u001b[1;32m    853\u001b[0m             \u001b[0mself\u001b[0m\u001b[0;34m.\u001b[0m\u001b[0m_parent_header\u001b[0m\u001b[0;34m,\u001b[0m\u001b[0;34m\u001b[0m\u001b[0;34m\u001b[0m\u001b[0m\n",
            "\u001b[0;32m/usr/local/lib/python3.10/dist-packages/ipykernel/kernelbase.py\u001b[0m in \u001b[0;36m_input_request\u001b[0;34m(self, prompt, ident, parent, password)\u001b[0m\n\u001b[1;32m    893\u001b[0m             \u001b[0;32mexcept\u001b[0m \u001b[0mKeyboardInterrupt\u001b[0m\u001b[0;34m:\u001b[0m\u001b[0;34m\u001b[0m\u001b[0;34m\u001b[0m\u001b[0m\n\u001b[1;32m    894\u001b[0m                 \u001b[0;31m# re-raise KeyboardInterrupt, to truncate traceback\u001b[0m\u001b[0;34m\u001b[0m\u001b[0;34m\u001b[0m\u001b[0m\n\u001b[0;32m--> 895\u001b[0;31m                 \u001b[0;32mraise\u001b[0m \u001b[0mKeyboardInterrupt\u001b[0m\u001b[0;34m(\u001b[0m\u001b[0;34m\"Interrupted by user\"\u001b[0m\u001b[0;34m)\u001b[0m \u001b[0;32mfrom\u001b[0m \u001b[0;32mNone\u001b[0m\u001b[0;34m\u001b[0m\u001b[0;34m\u001b[0m\u001b[0m\n\u001b[0m\u001b[1;32m    896\u001b[0m             \u001b[0;32mexcept\u001b[0m \u001b[0mException\u001b[0m \u001b[0;32mas\u001b[0m \u001b[0me\u001b[0m\u001b[0;34m:\u001b[0m\u001b[0;34m\u001b[0m\u001b[0;34m\u001b[0m\u001b[0m\n\u001b[1;32m    897\u001b[0m                 \u001b[0mself\u001b[0m\u001b[0;34m.\u001b[0m\u001b[0mlog\u001b[0m\u001b[0;34m.\u001b[0m\u001b[0mwarning\u001b[0m\u001b[0;34m(\u001b[0m\u001b[0;34m\"Invalid Message:\"\u001b[0m\u001b[0;34m,\u001b[0m \u001b[0mexc_info\u001b[0m\u001b[0;34m=\u001b[0m\u001b[0;32mTrue\u001b[0m\u001b[0;34m)\u001b[0m\u001b[0;34m\u001b[0m\u001b[0;34m\u001b[0m\u001b[0m\n",
            "\u001b[0;31mKeyboardInterrupt\u001b[0m: Interrupted by user"
          ]
        }
      ],
      "source": [
        "import pandas as pd\n",
        "import numpy as np\n",
        "from IPython.display import display, HTML\n",
        "from transformers import BertTokenizer,BertForSequenceClassification,Trainer,TrainingArguments\n",
        "import torch\n",
        "from sklearn.model_selection import train_test_split\n",
        "##\n",
        "from google.colab import drive\n",
        "drive.mount('/content/drive')\n",
        "##\n",
        "device = torch.device('cuda' if torch.cuda.is_available() else 'cpu')\n",
        "print(device)\n",
        "#event vectors\n",
        "event_traces = pd.read_csv('/content/drive/MyDrive/Data/Event_traces.csv',usecols=['BlockId','Label','Features'])\n",
        "event_traces['Label'] = event_traces['Label'].map({'Success':1,'Fail':0})\n",
        "#event template- message\n",
        "log_templates = pd.read_csv('/content/drive/MyDrive/Data/HDFS.log_templates.csv')\n",
        "#Printing-Displaying\n",
        "display(HTML((event_traces.sample(5)).to_html()))\n",
        "#\n",
        "display(HTML((log_templates.sample(5)).to_html()))\n",
        "##Dictionary ton EventIds-Events\n",
        "event_dictionary = dict(zip(log_templates['EventId'],log_templates['EventTemplate']))\n",
        "\n",
        "print(event_dictionary)\n",
        "print(event_traces['Features'].sample(1))\n",
        "event_traces.info()\n",
        "#input('WAIT')\n",
        "##\n",
        "def features_to_strings(entry):\n",
        "  return [event_dictionary.get(eventID) for eventID in entry['Features'].replace('[','').replace(']','').split(',')]\n",
        "\n",
        "event_traces['Features'] = event_traces.apply(features_to_strings,axis=1)\n",
        "display(HTML((event_traces.sample(1)).to_html()))\n",
        "input('WAIT')\n",
        "##\n",
        "'''\n",
        "#\n",
        "logs_csv = pd.read_csv('/content/drive/MyDrive/Data/BGL.csv')\n",
        "#print('First 5 entries: ',logs_csv.head())\n",
        "display(HTML((logs_csv.sample(5)).to_html()))\n",
        "##\n",
        "#print('Last 5 entries: ',logs_csv.tail())\n",
        "labels = logs_csv['Label'].unique()\n",
        "print(labels)\n",
        "#\n",
        "logs_csv['Label'] = logs_csv['Label'].map({'-':0})\n",
        "logs_csv['Label'] = logs_csv['Label'].fillna(1).astype(int)\n",
        "#\n",
        "display(HTML((logs_csv.sample(5)).to_html()))\n",
        "###\n",
        "print(logs_csv['Label'].value_counts())\n",
        "\n",
        "\n",
        "'''\n",
        "##\n",
        "\n",
        "tokenizer = BertTokenizer.from_pretrained(\"bert-base-uncased\") # tokenizer\n",
        "#orisma ena line tou dataset opote epilego to column me to keimeno pou thelo na tokenaro\n",
        "def tokenize_logs(entry):\n",
        "  return tokenizer(entry['Content'],padding='max_length',truncation=True)\n",
        "#\n",
        "'''\n",
        "logs_csv['Content'] = logs_csv.apply(tokenize_logs,axis=1)\n",
        "#\n",
        "\n",
        "#\n",
        "display(HTML((logs_csv.sample(5)).to_html()))\n",
        "##\n",
        "drop_columns = ['LineId','Timestamp','Date','Node','Time','NodeRepeat','Type','Component','Level','EventId','EventTemplate']\n",
        "clean_logs_csv = logs_csv.drop(columns=drop_columns)\n",
        "display(HTML((clean_logs_csv.sample(5)).to_html()))\n",
        "'''\n",
        "##\n",
        "#X_train,X_test,y_train,y_test = train_test_split(clean_logs_csv['Content'],clean_logs_csv['Label'],test_size=0.2,random_state=42)\n",
        "#print(X_train[0])\n",
        "#########Fine tuning meso ton parakato parametron##########\n",
        "\n",
        "model = BertForSequenceClassification.from_pretrained(\"bert-base-uncased\",num_labels=2).to(device)#modelo me ena extra layer gia to classification\n",
        "###\n",
        "training_arguments = TrainingArguments(\n",
        "    evaluation_strategy = \"epoch\",\n",
        "    learning_rate=2e-5,\n",
        "     per_device_train_batch_size=16,\n",
        "    per_device_eval_batch_size=64\n",
        "\n",
        ")\n",
        "\n",
        "#########\n",
        "trainer = Trainer(\n",
        "\n",
        "    model=model,#modelo pou tha kanei to classification,\n",
        "\n",
        "    args=training_args,\n",
        "    tokenizer=tokenizer#o tokenizer,\n",
        "\n",
        "    #data_collator=data_collator,\n",
        "\n",
        ")\n",
        "### Train the model\n",
        "#trainer.train()\n"
      ]
    }
  ]
}